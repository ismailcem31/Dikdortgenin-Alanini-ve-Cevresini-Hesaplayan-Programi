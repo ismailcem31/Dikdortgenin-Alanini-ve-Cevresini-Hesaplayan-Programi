{
 "cells": [
  {
   "cell_type": "code",
   "execution_count": null,
   "id": "bebee0cf",
   "metadata": {},
   "outputs": [],
   "source": [
    "# Kullanıcıdan kısa ve uzun kenar uzunluklarını al\n",
    "kisa_kenar = float(input(\"Lütfen dikdörtgenin kısa kenar uzunluğunu girin: \"))\n",
    "uzun_kenar = float(input(\"Lütfen dikdörtgenin uzun kenar uzunluğunu girin: \"))\n",
    " \n",
    "# Alanı hesapla\n",
    "alan = kisa_kenar * uzun_kenar\n",
    " \n",
    "# Çevreyi hesapla\n",
    "cevre = 2 * (kisa_kenar + uzun_kenar)\n",
    " \n",
    "\"\"\"\n",
    "print(f\"Dikdörtgenin Alanı: {alan}\")\n",
    "print(f\"Dikdörtgenin Çevresi: {cevre}\")\n",
    "\"\"\"\n",
    " \n",
    "print(f\"Dikdörtgenin Alanı: {alan}\\nDikdörtgenin Çevresi: {cevre}\")"
   ]
  }
 ],
 "metadata": {
  "kernelspec": {
   "display_name": "Python 3 (ipykernel)",
   "language": "python",
   "name": "python3"
  },
  "language_info": {
   "codemirror_mode": {
    "name": "ipython",
    "version": 3
   },
   "file_extension": ".py",
   "mimetype": "text/x-python",
   "name": "python",
   "nbconvert_exporter": "python",
   "pygments_lexer": "ipython3",
   "version": "3.11.3"
  }
 },
 "nbformat": 4,
 "nbformat_minor": 5
}
